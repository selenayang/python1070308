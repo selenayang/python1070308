{
 "cells": [
  {
   "cell_type": "code",
   "execution_count": 10,
   "metadata": {},
   "outputs": [
    {
     "name": "stdout",
     "output_type": "stream",
     "text": [
      "1~10請猜一個數字：96\n",
      "答錯了，再猜一次～\n",
      "提示：數字太大了，再減一點點吧！\n"
     ]
    }
   ],
   "source": [
    "#猜數字\n",
    "a = input(\"1~10請猜一個數字：\")\n",
    "b = int(a)\n",
    "if b == 10:\n",
    "    print(\"恭喜你答對了!遊戲結束了~\")\n",
    "else:\n",
    "    print(\"答錯了，再猜一次～\")\n",
    "    \n",
    "    if b <= 9:\n",
    "        print (\"提示：數字太小了，再加一點點吧！\")\n",
    "    else:\n",
    "        print (\"提示：數字太大了，再減一點點吧！\")\n"
   ]
  },
  {
   "cell_type": "code",
   "execution_count": null,
   "metadata": {},
   "outputs": [],
   "source": []
  }
 ],
 "metadata": {
  "kernelspec": {
   "display_name": "Python 3",
   "language": "python",
   "name": "python3"
  },
  "language_info": {
   "codemirror_mode": {
    "name": "ipython",
    "version": 3
   },
   "file_extension": ".py",
   "mimetype": "text/x-python",
   "name": "python",
   "nbconvert_exporter": "python",
   "pygments_lexer": "ipython3",
   "version": "3.6.4"
  }
 },
 "nbformat": 4,
 "nbformat_minor": 2
}
